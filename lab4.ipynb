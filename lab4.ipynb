{
 "cells": [
  {
   "cell_type": "code",
   "execution_count": 350,
   "metadata": {},
   "outputs": [],
   "source": [
    "import numpy as np"
   ]
  },
  {
   "cell_type": "markdown",
   "metadata": {},
   "source": [
    "Матрица B для расширенного кода Голея"
   ]
  },
  {
   "cell_type": "code",
   "execution_count": 351,
   "metadata": {},
   "outputs": [],
   "source": [
    "B = np.array([[1, 1, 0, 1, 1, 1, 0, 0, 0, 1, 0, 1],\n",
    "              [1, 0, 1, 1, 1, 0, 0, 0, 1, 0, 1, 1],\n",
    "              [0, 1, 1, 1, 0, 0, 0, 1, 0, 1, 1, 1],\n",
    "              [1, 1, 1, 0, 0, 0, 1, 0, 1, 1, 0, 1],\n",
    "              [1, 1, 0, 0, 0, 1, 0, 1, 1, 0, 1, 1],\n",
    "              [1, 0, 0, 0, 1, 0, 1, 1, 0, 1, 1, 1],\n",
    "              [0, 0, 0, 1, 0, 1, 1, 0, 1, 1, 1, 1],\n",
    "              [0, 0, 1, 0, 1, 1, 0, 1, 1, 1, 0, 1],\n",
    "              [0, 1, 0, 1, 1, 0, 1, 1, 1, 0, 0, 1],\n",
    "              [1, 0, 1, 1, 0, 1, 1, 1, 0, 0, 0, 1],\n",
    "              [0, 1, 1, 0, 1, 1, 1, 0, 0, 0, 1, 1],\n",
    "              [1, 1, 1, 1, 1, 1, 1, 1, 1, 1, 1, 0]])"
   ]
  },
  {
   "cell_type": "markdown",
   "metadata": {},
   "source": [
    "Нахождение порождающей и проверочной матриц расширенного кода Голея"
   ]
  },
  {
   "cell_type": "code",
   "execution_count": 352,
   "metadata": {},
   "outputs": [],
   "source": [
    "\n",
    "def get_generative_and_verification_galley_matrixes():\n",
    "    G = np.hstack((np.eye(12, 12, dtype=int), B))\n",
    "    H = np.vstack((np.eye(12, 12, dtype=int),B))\n",
    "    return G, H"
   ]
  },
  {
   "cell_type": "markdown",
   "metadata": {},
   "source": [
    "Обнаружение и исправление n-кратной ошибки с помощью расширенного кода Голея"
   ]
  },
  {
   "cell_type": "code",
   "execution_count": 353,
   "metadata": {},
   "outputs": [],
   "source": [
    "def fix_error_with_galley_code(G, H, n):\n",
    "    U = np.array([0] * len(G))\n",
    "    w = np.mod(np.dot(U, G), 2)\n",
    "    e = w.copy()\n",
    "\n",
    "    # вводим n-кратную ошибку\n",
    "    for i in range(n):\n",
    "        e[i] = (e[i] + 1) % 2\n",
    "    s = np.mod(np.dot(e, H), 2)\n",
    "\n",
    "    corr = None\n",
    "    if (sum(s) <= 3):\n",
    "        corr = np.hstack((s, np.zeros(len(s), dtype=int)))\n",
    "    for i in range(len(B)):\n",
    "        if(sum(s ^ B[i]) <= 2):\n",
    "            err_el = np.zeros(len(s))\n",
    "            err_el[i] = 1\n",
    "            corr=np.hstack(s ^ B[i], err_el)\n",
    "    if corr is None:\n",
    "        sec_s = np.mod(np.dot(s, B), 2)\n",
    "        if (sum(sec_s) <= 3):\n",
    "            corr = np.hstack(( np.zeros(len(s), dtype=int),sec_s))\n",
    "        for j in range(len(B)):\n",
    "            if (sum(sec_s ^ B[j]) <= 2):\n",
    "                err_el = np.zeros(len(s))\n",
    "                err_el[j] = 1\n",
    "                corr = np.hstack(err_el,sec_s ^ B[j])\n",
    "    if corr is not None:\n",
    "        corr=corr ^ e\n",
    "    return \"Ошибка обнаружена, исправлена\" if np.array_equal(corr,w) else \"Ошибка обнаружена, не исправлена\"\n"
   ]
  },
  {
   "cell_type": "markdown",
   "metadata": {},
   "source": [
    "Генерация кода Рида-Маллера"
   ]
  },
  {
   "cell_type": "code",
   "execution_count": 354,
   "metadata": {},
   "outputs": [],
   "source": [
    "def generate_rid_maller_code(r, m):\n",
    "    if r == 0:\n",
    "        return np.ones((1, 2 ** m), dtype=int)\n",
    "    if r == m:\n",
    "        G = generate_rid_maller_code(m - 1, m)\n",
    "        return np.vstack([G, np.eye(1, 2 ** m, -1, dtype=int)])\n",
    "    G_rm1 = generate_rid_maller_code(r, m - 1)\n",
    "    G_r1_m1 = generate_rid_maller_code(r - 1, m - 1)\n",
    "    return np.vstack([np.hstack([G_rm1, G_rm1]),\n",
    "                      np.hstack([np.zeros_like(G_r1_m1, dtype=int), G_r1_m1])])"
   ]
  },
  {
   "cell_type": "markdown",
   "metadata": {},
   "source": [
    "Создание проверочной матрицы кода Рида-Маллера"
   ]
  },
  {
   "cell_type": "code",
   "execution_count": 355,
   "metadata": {},
   "outputs": [],
   "source": [
    "def verification_RM_matrix(i, m):\n",
    "    H = np.array([[1, 1], [1, -1]], dtype=int)\n",
    "    return np.kron(np.kron(np.eye(2**(m-i), dtype=int), H), np.eye(2**(i-1), dtype=int))\n"
   ]
  },
  {
   "cell_type": "markdown",
   "metadata": {},
   "source": [
    "Замена 0 на -1, необходимая для кода Рида-Маллера"
   ]
  },
  {
   "cell_type": "code",
   "execution_count": 356,
   "metadata": {},
   "outputs": [],
   "source": [
    "def replace_on_minus_one(w):\n",
    "    return np.where(w == 0, -1, 1)"
   ]
  },
  {
   "cell_type": "markdown",
   "metadata": {},
   "source": [
    "Исправление ошибок с помощью Рида-Маллера"
   ]
  },
  {
   "cell_type": "code",
   "execution_count": null,
   "metadata": {},
   "outputs": [],
   "source": [
    "def fix_RM_errors(G, m, n):\n",
    "    U = np.zeros(G.shape[0], dtype=int)\n",
    "    w = np.mod(U @ G, 2)\n",
    "    e1 = w.copy()\n",
    "    e1[:n] = (e1[:n] + 1) % 2 \n",
    "\n",
    "    wm = replace_on_minus_one(e1) @ verification_RM_matrix(1, m)\n",
    "    for j in range(2, m + 1):\n",
    "        wm = wm @ verification_RM_matrix(j, m)\n",
    "\n",
    "    lead = np.argmax(np.abs(wm))\n",
    "    v = np.array(list(map(int, bin(lead)[2:].zfill(m)[::-1])))\n",
    "\n",
    "    u = np.append([wm[lead] > 0], v).astype(int)\n",
    "    return \"Ошибка обнаружена, исправлена\" if np.array_equal(u, U) else \"Ошибка обнаружена, не исправлена\"\n"
   ]
  },
  {
   "cell_type": "markdown",
   "metadata": {},
   "source": [
    "Работа с кодом Голея"
   ]
  },
  {
   "cell_type": "code",
   "execution_count": 358,
   "metadata": {},
   "outputs": [
    {
     "name": "stdout",
     "output_type": "stream",
     "text": [
      "Матрица g_galley\n",
      " [[1 0 0 0 0 0 0 0 0 0 0 0 1 1 0 1 1 1 0 0 0 1 0 1]\n",
      " [0 1 0 0 0 0 0 0 0 0 0 0 1 0 1 1 1 0 0 0 1 0 1 1]\n",
      " [0 0 1 0 0 0 0 0 0 0 0 0 0 1 1 1 0 0 0 1 0 1 1 1]\n",
      " [0 0 0 1 0 0 0 0 0 0 0 0 1 1 1 0 0 0 1 0 1 1 0 1]\n",
      " [0 0 0 0 1 0 0 0 0 0 0 0 1 1 0 0 0 1 0 1 1 0 1 1]\n",
      " [0 0 0 0 0 1 0 0 0 0 0 0 1 0 0 0 1 0 1 1 0 1 1 1]\n",
      " [0 0 0 0 0 0 1 0 0 0 0 0 0 0 0 1 0 1 1 0 1 1 1 1]\n",
      " [0 0 0 0 0 0 0 1 0 0 0 0 0 0 1 0 1 1 0 1 1 1 0 1]\n",
      " [0 0 0 0 0 0 0 0 1 0 0 0 0 1 0 1 1 0 1 1 1 0 0 1]\n",
      " [0 0 0 0 0 0 0 0 0 1 0 0 1 0 1 1 0 1 1 1 0 0 0 1]\n",
      " [0 0 0 0 0 0 0 0 0 0 1 0 0 1 1 0 1 1 1 0 0 0 1 1]\n",
      " [0 0 0 0 0 0 0 0 0 0 0 1 1 1 1 1 1 1 1 1 1 1 1 0]]\n",
      "Матрица h_galley\n",
      " [[1 0 0 0 0 0 0 0 0 0 0 0]\n",
      " [0 1 0 0 0 0 0 0 0 0 0 0]\n",
      " [0 0 1 0 0 0 0 0 0 0 0 0]\n",
      " [0 0 0 1 0 0 0 0 0 0 0 0]\n",
      " [0 0 0 0 1 0 0 0 0 0 0 0]\n",
      " [0 0 0 0 0 1 0 0 0 0 0 0]\n",
      " [0 0 0 0 0 0 1 0 0 0 0 0]\n",
      " [0 0 0 0 0 0 0 1 0 0 0 0]\n",
      " [0 0 0 0 0 0 0 0 1 0 0 0]\n",
      " [0 0 0 0 0 0 0 0 0 1 0 0]\n",
      " [0 0 0 0 0 0 0 0 0 0 1 0]\n",
      " [0 0 0 0 0 0 0 0 0 0 0 1]\n",
      " [1 1 0 1 1 1 0 0 0 1 0 1]\n",
      " [1 0 1 1 1 0 0 0 1 0 1 1]\n",
      " [0 1 1 1 0 0 0 1 0 1 1 1]\n",
      " [1 1 1 0 0 0 1 0 1 1 0 1]\n",
      " [1 1 0 0 0 1 0 1 1 0 1 1]\n",
      " [1 0 0 0 1 0 1 1 0 1 1 1]\n",
      " [0 0 0 1 0 1 1 0 1 1 1 1]\n",
      " [0 0 1 0 1 1 0 1 1 1 0 1]\n",
      " [0 1 0 1 1 0 1 1 1 0 0 1]\n",
      " [1 0 1 1 0 1 1 1 0 0 0 1]\n",
      " [0 1 1 0 1 1 1 0 0 0 1 1]\n",
      " [1 1 1 1 1 1 1 1 1 1 1 0]]\n",
      "Исправление ошибок для однократной ошибки:  Ошибка обнаружена, исправлена\n",
      "Исправление ошибок для двухкратной ошибки:  Ошибка обнаружена, исправлена\n",
      "Исправление ошибок для трехкратной ошибки:  Ошибка обнаружена, исправлена\n",
      "Исправление ошибок для четырехкратной ошибки:  Ошибка обнаружена, не исправлена \n",
      "\n"
     ]
    }
   ],
   "source": [
    "g_galley, h_galley = get_generative_and_verification_galley_matrixes()\n",
    "print(\"Матрица g_galley\\n\",g_galley)\n",
    "print(\"Матрица h_galley\\n\",h_galley)\n",
    "print(\"Исправление ошибок для однократной ошибки: \", fix_error_with_galley_code(g_galley, h_galley, 1))\n",
    "print(\"Исправление ошибок для двухкратной ошибки: \", fix_error_with_galley_code(g_galley, h_galley, 2))\n",
    "print(\"Исправление ошибок для трехкратной ошибки: \", fix_error_with_galley_code(g_galley, h_galley, 3))\n",
    "print(\"Исправление ошибок для четырехкратной ошибки: \", fix_error_with_galley_code(g_galley, h_galley, 4), '\\n')"
   ]
  },
  {
   "cell_type": "markdown",
   "metadata": {},
   "source": [
    "Работа с кодом Рида-Маллера"
   ]
  },
  {
   "cell_type": "code",
   "execution_count": 359,
   "metadata": {},
   "outputs": [
    {
     "name": "stdout",
     "output_type": "stream",
     "text": [
      "Матрица G кода Рида-Маллера r = 1 m = 3 [[1 1 1 1 1 1 1 1]\n",
      " [0 0 0 0 0 0 0 0]\n",
      " [0 0 1 1 0 0 1 1]\n",
      " [0 0 0 0 1 1 1 1]]\n",
      "Исправление ошибок для однократной ошибки Ошибка обнаружена, исправлена\n",
      "Исправление ошибок для двухкратной ошибки Ошибка обнаружена, исправлена\n",
      "Матрица G кода Рида-Маллера r = 1 m = 4 [[1 1 1 1 1 1 1 1 1 1 1 1 1 1 1 1]\n",
      " [0 0 0 0 0 0 0 0 0 0 0 0 0 0 0 0]\n",
      " [0 0 1 1 0 0 1 1 0 0 1 1 0 0 1 1]\n",
      " [0 0 0 0 1 1 1 1 0 0 0 0 1 1 1 1]\n",
      " [0 0 0 0 0 0 0 0 1 1 1 1 1 1 1 1]]\n",
      "Исправление ошибок с помощью кода Рида-Маллера при r = 1 m = 4\n",
      "Исправление ошибок для однократной ошибки Ошибка обнаружена, исправлена\n",
      "Исправление ошибок для двухкратной ошибки Ошибка обнаружена, исправлена\n",
      "Исправление ошибок для трёхкратной ошибки Ошибка обнаружена, исправлена\n",
      "Исправление ошибок для четырёхкратной ошибки Ошибка обнаружена, исправлена\n"
     ]
    }
   ],
   "source": [
    "r, m = 1, 3\n",
    "RM_G_matr=generate_rid_maller_code(r,m)\n",
    "print(\"Матрица G кода Рида-Маллера r = 1 m = 3\", RM_G_matr)\n",
    "print(\"Исправление ошибок для однократной ошибки\", fix_RM_errors(RM_G_matr, m, 1))\n",
    "print(\"Исправление ошибок для двухкратной ошибки\", fix_RM_errors(RM_G_matr, m, 2))\n",
    "\n",
    "r, m = 1, 4\n",
    "RM_G_matr=generate_rid_maller_code(r,m)\n",
    "print(\"Матрица G кода Рида-Маллера r = 1 m = 4\",RM_G_matr)\n",
    "print(\"Исправление ошибок с помощью кода Рида-Маллера при r = 1 m = 4\")\n",
    "print(\"Исправление ошибок для однократной ошибки\", fix_RM_errors(RM_G_matr, m, 1))\n",
    "print(\"Исправление ошибок для двухкратной ошибки\", fix_RM_errors(RM_G_matr, m, 2))\n",
    "print(\"Исправление ошибок для трёхкратной ошибки\", fix_RM_errors(RM_G_matr, m, 3))\n",
    "print(\"Исправление ошибок для четырёхкратной ошибки\", fix_RM_errors(RM_G_matr, m, 4))"
   ]
  }
 ],
 "metadata": {
  "kernelspec": {
   "display_name": "Python 3",
   "language": "python",
   "name": "python3"
  },
  "language_info": {
   "codemirror_mode": {
    "name": "ipython",
    "version": 3
   },
   "file_extension": ".py",
   "mimetype": "text/x-python",
   "name": "python",
   "nbconvert_exporter": "python",
   "pygments_lexer": "ipython3",
   "version": "3.11.2"
  }
 },
 "nbformat": 4,
 "nbformat_minor": 2
}
