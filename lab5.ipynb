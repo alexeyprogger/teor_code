{
 "cells": [
  {
   "cell_type": "code",
   "execution_count": 134,
   "metadata": {},
   "outputs": [],
   "source": [
    "import numpy as np\n",
    "from itertools import combinations, product"
   ]
  },
  {
   "cell_type": "markdown",
   "metadata": {},
   "source": [
    "Формирование V_i вектора"
   ]
  },
  {
   "cell_type": "code",
   "execution_count": 135,
   "metadata": {},
   "outputs": [],
   "source": [
    "def i_vector(set, col):\n",
    "    if len(set) == 0:\n",
    "        return np.ones(2 ** col, int)\n",
    "    else:\n",
    "        vec = []\n",
    "        for bin_v in list(product([0, 1], repeat = col)):\n",
    "            f = np.prod([(bin_v[i] + 1) % 2 for i in set])\n",
    "            vec.append(f)\n",
    "        return vec"
   ]
  },
  {
   "cell_type": "markdown",
   "metadata": {},
   "source": [
    "Создаёт матрицу кода Рида-Маллера порядка r"
   ]
  },
  {
   "cell_type": "code",
   "execution_count": 136,
   "metadata": {},
   "outputs": [],
   "source": [
    "def create_RM_matrix(r, m):\n",
    "    combs = [set for size in range(r + 1) for set in combinations(range(m), size)]\n",
    "    return np.array([i_vector(set, m) for set in combs])"
   ]
  },
  {
   "cell_type": "markdown",
   "metadata": {},
   "source": [
    "Список бинарных слов длины m"
   ]
  },
  {
   "cell_type": "code",
   "execution_count": 137,
   "metadata": {},
   "outputs": [],
   "source": [
    "def Vec_h(I, m):\n",
    "    return [word for word in product([0, 1], repeat=m) if np.prod([(word[idx] + 1) % 2 for idx in I])]"
   ]
  },
  {
   "cell_type": "markdown",
   "metadata": {},
   "source": [
    "Вектор с учётом параметра сдвига t"
   ]
  },
  {
   "cell_type": "code",
   "execution_count": 138,
   "metadata": {},
   "outputs": [],
   "source": [
    "def i_t_vector(I, m, t):\n",
    "    return np.ones(2 ** m, int) if not I else [\n",
    "        np.prod([(word[j] + t[j] + 1) % 2 for j in I]) for word in product([0, 1], repeat = m)\n",
    "    ]"
   ]
  },
  {
   "cell_type": "markdown",
   "metadata": {},
   "source": [
    "Упорядочивание комбинаций индексов в мажоритарном декодировании"
   ]
  },
  {
   "cell_type": "code",
   "execution_count": 139,
   "metadata": {},
   "outputs": [],
   "source": [
    "def sorting(m, r):\n",
    "    return sorted(combinations(range(m), r), key=len)"
   ]
  },
  {
   "cell_type": "markdown",
   "metadata": {},
   "source": [
    "Мажоритарное декодирование для кода Рида-Маллера"
   ]
  },
  {
   "cell_type": "code",
   "execution_count": 140,
   "metadata": {},
   "outputs": [],
   "source": [
    "def major_decode(w, r, m, size):\n",
    "    w_r = w.copy()\n",
    "    Mi = np.zeros(size, dtype=int)\n",
    "    maximum_weight = 2 ** (m - r - 1) - 1\n",
    "    idx = 0\n",
    "\n",
    "    for i in range(r, -1, -1):\n",
    "        for J in sorting(m, i):\n",
    "            max_count = 2 ** (m - i - 1)\n",
    "            zeros, ones = 0, 0\n",
    "            dop = [x for x in range(m) if x not in J]\n",
    "\n",
    "            for t in Vec_h(J, m):\n",
    "                V = i_t_vector(dop, m, t)\n",
    "                c = np.dot(w_r, V) % 2\n",
    "                zeros += (c == 0)\n",
    "                ones += (c == 1)\n",
    "\n",
    "            if zeros > maximum_weight and ones > maximum_weight:\n",
    "                return None\n",
    "            if zeros > max_count:\n",
    "                Mi[idx] = 0\n",
    "            elif ones > max_count:\n",
    "                Mi[idx] = 1\n",
    "                w_r = (w_r + i_vector(J, m)) % 2\n",
    "            idx += 1\n",
    "\n",
    "        if len(w_r) < maximum_weight:\n",
    "            Mi[idx:idx + len(sorting(m, i + 1))] = 0\n",
    "            break\n",
    "\n",
    "    return Mi"
   ]
  },
  {
   "cell_type": "markdown",
   "metadata": {},
   "source": [
    "Генерация кодового слова с указанным числом ошибок для проверки алгоритма декодирования"
   ]
  },
  {
   "cell_type": "code",
   "execution_count": 141,
   "metadata": {},
   "outputs": [],
   "source": [
    "def mistakes(G, error_count, u):\n",
    "    u = u.dot(G) % 2\n",
    "    mistake_position = np.random.choice(len(u), size = error_count, replace = False)\n",
    "    u[mistake_position] = (u[mistake_position] + 1) % 2\n",
    "    return u"
   ]
  },
  {
   "cell_type": "markdown",
   "metadata": {},
   "source": [
    "Эксперименты"
   ]
  },
  {
   "cell_type": "code",
   "execution_count": 142,
   "metadata": {},
   "outputs": [
    {
     "name": "stdout",
     "output_type": "stream",
     "text": [
      "Порождающая матрица кода Рида-Маллера:\n",
      " [[1 1 1 1 1 1 1 1 1 1 1 1 1 1 1 1]\n",
      " [1 1 1 1 1 1 1 1 0 0 0 0 0 0 0 0]\n",
      " [1 1 1 1 0 0 0 0 1 1 1 1 0 0 0 0]\n",
      " [1 1 0 0 1 1 0 0 1 1 0 0 1 1 0 0]\n",
      " [1 0 1 0 1 0 1 0 1 0 1 0 1 0 1 0]\n",
      " [1 1 1 1 0 0 0 0 0 0 0 0 0 0 0 0]\n",
      " [1 1 0 0 1 1 0 0 0 0 0 0 0 0 0 0]\n",
      " [1 0 1 0 1 0 1 0 0 0 0 0 0 0 0 0]\n",
      " [1 1 0 0 0 0 0 0 1 1 0 0 0 0 0 0]\n",
      " [1 0 1 0 0 0 0 0 1 0 1 0 0 0 0 0]\n",
      " [1 0 0 0 1 0 0 0 1 0 0 0 1 0 0 0]] \n",
      "\n",
      "Однократная ошибка\n",
      "\n",
      "Исходное сообщение: [1 0 0 0 1 1 0 0 0 1 1]\n",
      "Слово с ошибкой: [1 0 1 0 1 1 0 1 0 1 1 1 1 1 0 1]\n",
      "u * G: [1 0 0 0 1 1 0 1 0 1 1 1 1 1 0 1]\n",
      "Исправленное слово: [1 0 0 0 1 1 0 0 0 1 1] \n",
      "\n",
      "Двукратная ошибка\n",
      "\n",
      "Исходное сообщение: [1 0 0 0 1 1 0 0 0 1 1]\n",
      "Слово с ошибкой: [1 1 0 0 1 1 0 1 0 1 1 1 1 0 0 1]\n",
      "\n",
      " Ошибка не исправлена\n"
     ]
    }
   ],
   "source": [
    "G_matr = create_RM_matrix(2, 4)\n",
    "print(\"Порождающая матрица кода Рида-Маллера:\\n\", G_matr,\"\\n\")\n",
    "print(\"Однократная ошибка\\n\")\n",
    "u = np.array([1, 0, 0, 0, 1, 1, 0, 0, 0, 1, 1])\n",
    "print(\"Исходное сообщение:\", u)\n",
    "error = mistakes(G_matr, 1, u)\n",
    "print(\"Слово с ошибкой:\", error)\n",
    "\n",
    "word_decoded = major_decode(error, 2, 4, len(G_matr))\n",
    "if word_decoded is None:\n",
    "    print(\"Ошибка\")\n",
    "else:\n",
    "    V2 = word_decoded.dot(G_matr) % 2\n",
    "    print(\"u * G:\", V2)\n",
    "    print(\"Исправленное слово:\", word_decoded,\"\\n\")\n",
    "\n",
    "print(\"Двукратная ошибка\\n\")\n",
    "u = np.array([1, 0, 0, 0, 1, 1, 0, 0, 0, 1, 1])\n",
    "print(\"Исходное сообщение:\", u)\n",
    "error = mistakes(G_matr, 2, u)\n",
    "print(\"Слово с ошибкой:\", error)\n",
    "word_decoded = major_decode(error, 2, 4, len(G_matr))\n",
    "\n",
    "if word_decoded is None:\n",
    "   print(\"\\n Ошибка не исправлена\")\n",
    "else:\n",
    "   V2 = word_decoded.dot(G_matr) % 2\n",
    "   print(\"u * G:\", V2)\n",
    "   print(\"Исправленное слово:\", word_decoded)"
   ]
  }
 ],
 "metadata": {
  "kernelspec": {
   "display_name": "Python 3",
   "language": "python",
   "name": "python3"
  },
  "language_info": {
   "codemirror_mode": {
    "name": "ipython",
    "version": 3
   },
   "file_extension": ".py",
   "mimetype": "text/x-python",
   "name": "python",
   "nbconvert_exporter": "python",
   "pygments_lexer": "ipython3",
   "version": "3.11.2"
  }
 },
 "nbformat": 4,
 "nbformat_minor": 2
}
