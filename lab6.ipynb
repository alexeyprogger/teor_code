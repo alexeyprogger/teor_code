{
 "cells": [
  {
   "cell_type": "code",
   "execution_count": 38,
   "metadata": {},
   "outputs": [],
   "source": [
    "import random\n",
    "import numpy as np"
   ]
  },
  {
   "cell_type": "markdown",
   "metadata": {},
   "source": [
    "Декодирование и исправление ошибок (7,4-код)"
   ]
  },
  {
   "cell_type": "code",
   "execution_count": null,
   "metadata": {},
   "outputs": [],
   "source": [
    "def decode_with_error_correction(received, generator, max_errors):\n",
    "    length = len(received)\n",
    "    syndrome = np.polydiv(received, generator)[1] % 2\n",
    "\n",
    "    for idx in range(length):\n",
    "        error_pattern = np.zeros(length, dtype=int)\n",
    "        error_pattern[length - idx - 1] = 1\n",
    "\n",
    "        shifted_syndrome = np.polymul(syndrome, error_pattern) % 2\n",
    "        residual = np.polydiv(shifted_syndrome, generator)[1] % 2\n",
    "\n",
    "        if sum(residual) <= max_errors:\n",
    "            correction = np.polymul(error_pattern, residual) % 2\n",
    "            corrected_word = np.polyadd(received, correction) % 2\n",
    "            decoded = np.polydiv(corrected_word, generator)[0] % 2\n",
    "            return decoded.astype(int)\n",
    "\n",
    "    return None\n"
   ]
  },
  {
   "cell_type": "markdown",
   "metadata": {},
   "source": [
    "Кодирование сообщений"
   ]
  },
  {
   "cell_type": "code",
   "execution_count": 40,
   "metadata": {},
   "outputs": [],
   "source": [
    "def encode(data, generator):\n",
    "    return np.polymul(data, generator) % 2"
   ]
  },
  {
   "cell_type": "markdown",
   "metadata": {},
   "source": [
    "Внесение случайных ошибок"
   ]
  },
  {
   "cell_type": "code",
   "execution_count": 41,
   "metadata": {},
   "outputs": [],
   "source": [
    "def add_random_errors(word, error_count):\n",
    "    length = len(word)\n",
    "    error_positions = random.sample(range(length), error_count)\n",
    "    print(f\"Error positions: {error_positions}\")\n",
    "    for pos in error_positions:\n",
    "        word[pos] ^= 1\n",
    "    return word"
   ]
  },
  {
   "cell_type": "code",
   "execution_count": 42,
   "metadata": {},
   "outputs": [],
   "source": [
    "def investigate_code_7_4():\n",
    "    print(\"\\nИсследование кода (7,4)\\n\")\n",
    "    g = np.array([1, 1, 0, 1]) \n",
    "    t = 1  \n",
    "\n",
    "    for error_count in range(1, 4): \n",
    "        word = np.array([1, 0, 1, 0])\n",
    "        print(f\"Исходное сообщение - {word}\")\n",
    "        codeword = encode(word, g)\n",
    "        print(f\"Закодированное сообщение - {codeword}\")\n",
    "        codeword_with_mistakes = add_random_errors(codeword.copy(), error_count)\n",
    "        print(f\"Сообщение с ошибками - {codeword_with_mistakes}\")\n",
    "        decoded = decode_with_error_correction(codeword_with_mistakes, g, t)\n",
    "        print(f\"Декодированное сообщение - {decoded}\")\n",
    "        if np.array_equal(word, decoded):\n",
    "            print(\"Исходное и декодированное сообщения совпадают\\n\")\n",
    "        else:\n",
    "            print(\"Исходное и декодированное сообщения не совпадают.\\n\")"
   ]
  },
  {
   "cell_type": "code",
   "execution_count": 45,
   "metadata": {},
   "outputs": [
    {
     "name": "stdout",
     "output_type": "stream",
     "text": [
      "\n",
      "Исследование кода (7,4)\n",
      "\n",
      "Исходное сообщение - [1 0 1 0]\n",
      "Закодированное сообщение - [1 1 1 0 0 1 0]\n",
      "Error positions: [5]\n",
      "Сообщение с ошибками - [1 1 1 0 0 0 0]\n",
      "Декодированное сообщение - [1 0 1 0]\n",
      "Исходное и декодированное сообщения совпадают\n",
      "\n",
      "Исходное сообщение - [1 0 1 0]\n",
      "Закодированное сообщение - [1 1 1 0 0 1 0]\n",
      "Error positions: [0, 4]\n",
      "Сообщение с ошибками - [0 1 1 0 1 1 0]\n",
      "Декодированное сообщение - [0 1 0 0]\n",
      "Исходное и декодированное сообщения не совпадают.\n",
      "\n",
      "Исходное сообщение - [1 0 1 0]\n",
      "Закодированное сообщение - [1 1 1 0 0 1 0]\n",
      "Error positions: [3, 1, 4]\n",
      "Сообщение с ошибками - [1 0 1 1 1 1 0]\n",
      "Декодированное сообщение - [1 1 0 0]\n",
      "Исходное и декодированное сообщения не совпадают.\n",
      "\n"
     ]
    }
   ],
   "source": [
    "investigate_code_7_4()"
   ]
  },
  {
   "cell_type": "code",
   "execution_count": 46,
   "metadata": {},
   "outputs": [],
   "source": [
    "def encode_message_15_9(u, g):\n",
    "    return np.polymul(u, g) % 2"
   ]
  },
  {
   "cell_type": "code",
   "execution_count": 47,
   "metadata": {},
   "outputs": [],
   "source": [
    "def add_errors(word, burst_length):\n",
    "    length = len(word)\n",
    "    start = random.randint(0, length - burst_length)\n",
    "    for i in range(burst_length):\n",
    "        word[(start + i) % length] ^= 1 \n",
    "    print(f\"Errors applied from {start} to {(start + burst_length - 1) % length}\")\n",
    "    return word\n"
   ]
  },
  {
   "cell_type": "code",
   "execution_count": 48,
   "metadata": {},
   "outputs": [],
   "source": [
    "def is_correctable_error(error_pattern, max_length):\n",
    "    trimmed = np.trim_zeros(error_pattern, 'f')\n",
    "    trimmed = np.trim_zeros(trimmed, 'b')\n",
    "    return len(trimmed) <= max_length and len(trimmed) > 0\n"
   ]
  },
  {
   "cell_type": "code",
   "execution_count": 49,
   "metadata": {},
   "outputs": [],
   "source": [
    "def decode_15_9(received, generator, max_length):\n",
    "    length = len(received)\n",
    "    syndrome = np.polydiv(received, generator)[1] % 2 \n",
    "\n",
    "    for idx in range(length):\n",
    "        error_pattern = np.zeros(length, dtype=int)\n",
    "        error_pattern[length - idx - 1] = 1\n",
    "\n",
    "        shifted_syndrome = np.polymul(syndrome, error_pattern) % 2\n",
    "        residual = np.polydiv(shifted_syndrome, generator)[1] % 2\n",
    "\n",
    "        if is_correctable_error(residual, max_length):\n",
    "            correction = np.polymul(error_pattern, residual) % 2\n",
    "            corrected_word = np.polyadd(received, correction) % 2\n",
    "            decoded = np.polydiv(corrected_word, generator)[0] % 2\n",
    "            return decoded.astype(int)\n",
    "\n",
    "    return None\n"
   ]
  },
  {
   "cell_type": "code",
   "execution_count": 50,
   "metadata": {},
   "outputs": [],
   "source": [
    "def investigate_code_15_9():\n",
    "    print(\"\\nИсследование кода (15,9)\\n\")\n",
    "    g = np.array([1, 0, 0, 1, 1, 1, 1])\n",
    "    t = 3  # Пакеты ошибок длиной 3\n",
    "\n",
    "    for packet_length in range(1, 5):\n",
    "        word = np.array([1, 1, 0, 0, 0, 1, 0, 0, 0])\n",
    "        print(f\"Исходное сообщение: {word}\")\n",
    "        codeword = encode_message_15_9(word, g)\n",
    "        print(f\"Закодированное сообщение: {codeword}\")\n",
    "        codeword_with_pack_mistakes = add_errors(codeword.copy(), packet_length)\n",
    "        print(f\"Сообщение с пакетом ошибок: {codeword_with_pack_mistakes}\")\n",
    "        decoded = decode_15_9(codeword_with_pack_mistakes, g, t)\n",
    "        print(f\"Декодированное сообщение: {decoded}\")\n",
    "        if np.array_equal(word, decoded):\n",
    "            print(\"Исходное сообщение и декодированное совпадают.\\n\")\n",
    "        else:\n",
    "            print(\"Исходное сообщение и декодированное не совпадают.\\n\")"
   ]
  },
  {
   "cell_type": "code",
   "execution_count": 52,
   "metadata": {},
   "outputs": [
    {
     "name": "stdout",
     "output_type": "stream",
     "text": [
      "\n",
      "Исследование кода (15,9)\n",
      "\n",
      "Исходное сообщение: [1 1 0 0 0 1 0 0 0]\n",
      "Закодированное сообщение: [1 1 0 1 0 1 0 1 1 1 1 1 0 0 0]\n",
      "Errors applied from 0 to 0\n",
      "Сообщение с пакетом ошибок: [0 1 0 1 0 1 0 1 1 1 1 1 0 0 0]\n",
      "Декодированное сообщение: [0 1 0 1 1 0 0 0 1]\n",
      "Исходное сообщение и декодированное не совпадают.\n",
      "\n",
      "Исходное сообщение: [1 1 0 0 0 1 0 0 0]\n",
      "Закодированное сообщение: [1 1 0 1 0 1 0 1 1 1 1 1 0 0 0]\n",
      "Errors applied from 13 to 14\n",
      "Сообщение с пакетом ошибок: [1 1 0 1 0 1 0 1 1 1 1 1 0 1 1]\n",
      "Декодированное сообщение: [1 1 0 0 0 1 0 0 0]\n",
      "Исходное сообщение и декодированное совпадают.\n",
      "\n",
      "Исходное сообщение: [1 1 0 0 0 1 0 0 0]\n",
      "Закодированное сообщение: [1 1 0 1 0 1 0 1 1 1 1 1 0 0 0]\n",
      "Errors applied from 9 to 11\n",
      "Сообщение с пакетом ошибок: [1 1 0 1 0 1 0 1 1 0 0 0 0 0 0]\n",
      "Декодированное сообщение: [1 1 0 0 0 1 0 0 0]\n",
      "Исходное сообщение и декодированное совпадают.\n",
      "\n",
      "Исходное сообщение: [1 1 0 0 0 1 0 0 0]\n",
      "Закодированное сообщение: [1 1 0 1 0 1 0 1 1 1 1 1 0 0 0]\n",
      "Errors applied from 1 to 4\n",
      "Сообщение с пакетом ошибок: [1 0 1 0 1 1 0 1 1 1 1 1 0 0 0]\n",
      "Декодированное сообщение: [1 0 1 1 0 1 1 1 0]\n",
      "Исходное сообщение и декодированное не совпадают.\n",
      "\n"
     ]
    }
   ],
   "source": [
    "investigate_code_15_9()"
   ]
  }
 ],
 "metadata": {
  "kernelspec": {
   "display_name": "Python 3",
   "language": "python",
   "name": "python3"
  },
  "language_info": {
   "codemirror_mode": {
    "name": "ipython",
    "version": 3
   },
   "file_extension": ".py",
   "mimetype": "text/x-python",
   "name": "python",
   "nbconvert_exporter": "python",
   "pygments_lexer": "ipython3",
   "version": "3.11.2"
  }
 },
 "nbformat": 4,
 "nbformat_minor": 2
}
